{
 "cells": [
  {
   "cell_type": "markdown",
   "id": "af4379ee",
   "metadata": {
    "papermill": {
     "duration": 0.005717,
     "end_time": "2022-08-13T17:02:13.519391",
     "exception": false,
     "start_time": "2022-08-13T17:02:13.513674",
     "status": "completed"
    },
    "tags": []
   },
   "source": [
    "# 0.988 --> 0.99228 or More\n",
    "\n",
    "My challenge to myself is to beat my old score. I will be trying different CNN. I expanded the dimensions to get better result in return. I am going to explain the process to it..."
   ]
  },
  {
   "cell_type": "code",
   "execution_count": 1,
   "id": "e9830b12",
   "metadata": {
    "_cell_guid": "b1076dfc-b9ad-4769-8c92-a6c4dae69d19",
    "_uuid": "8f2839f25d086af736a60e9eeb907d3b93b6e0e5",
    "execution": {
     "iopub.execute_input": "2022-08-13T17:02:13.530108Z",
     "iopub.status.busy": "2022-08-13T17:02:13.529478Z",
     "iopub.status.idle": "2022-08-13T17:02:21.958850Z",
     "shell.execute_reply": "2022-08-13T17:02:21.957463Z"
    },
    "papermill": {
     "duration": 8.441413,
     "end_time": "2022-08-13T17:02:21.965227",
     "exception": false,
     "start_time": "2022-08-13T17:02:13.523814",
     "status": "completed"
    },
    "tags": []
   },
   "outputs": [
    {
     "name": "stdout",
     "output_type": "stream",
     "text": [
      "Num GPUs Available:  1\n"
     ]
    },
    {
     "name": "stderr",
     "output_type": "stream",
     "text": [
      "2022-08-13 17:02:21.740331: I tensorflow/stream_executor/cuda/cuda_gpu_executor.cc:937] successful NUMA node read from SysFS had negative value (-1), but there must be at least one NUMA node, so returning NUMA node zero\n",
      "2022-08-13 17:02:21.937855: I tensorflow/stream_executor/cuda/cuda_gpu_executor.cc:937] successful NUMA node read from SysFS had negative value (-1), but there must be at least one NUMA node, so returning NUMA node zero\n",
      "2022-08-13 17:02:21.941894: I tensorflow/stream_executor/cuda/cuda_gpu_executor.cc:937] successful NUMA node read from SysFS had negative value (-1), but there must be at least one NUMA node, so returning NUMA node zero\n"
     ]
    }
   ],
   "source": [
    "import pandas as pd \n",
    "import numpy as np \n",
    "import os\n",
    "import cv2\n",
    "import matplotlib.pyplot as plt\n",
    "import warnings\n",
    "\n",
    "from tensorflow.keras.layers import Input, Lambda, Dense, Flatten, Dropout\n",
    "from tensorflow.keras.models import Model\n",
    "from tensorflow.keras.applications.vgg19 import VGG19\n",
    "from tensorflow.keras.applications.vgg19 import preprocess_input\n",
    "from tensorflow.keras.preprocessing import image, image_dataset_from_directory\n",
    "from tensorflow.keras.preprocessing.image import ImageDataGenerator\n",
    "from tensorflow.keras.models import Sequential\n",
    "from tensorflow import keras\n",
    "import tensorflow \n",
    "\n",
    "import scipy\n",
    "print(\"Num GPUs Available: \", len(tensorflow.config.list_physical_devices('GPU')))\n",
    "\n",
    "\n",
    "# Set the seed value for experiment reproduci.bility.\n",
    "seed = 1842\n",
    "tensorflow.random.set_seed(seed)\n",
    "np.random.seed(seed)\n",
    "# Turn off warnings for cleaner looking notebook\n",
    "warnings.simplefilter('ignore')"
   ]
  },
  {
   "cell_type": "markdown",
   "id": "2d53ef71",
   "metadata": {
    "papermill": {
     "duration": 0.004432,
     "end_time": "2022-08-13T17:02:21.974855",
     "exception": false,
     "start_time": "2022-08-13T17:02:21.970423",
     "status": "completed"
    },
    "tags": []
   },
   "source": [
    "Firstly, I am importing the libraries that I will use. Then, I am deciding the shape of data and transforming it to (28,28,1)."
   ]
  },
  {
   "cell_type": "code",
   "execution_count": 2,
   "id": "3d4007ef",
   "metadata": {
    "execution": {
     "iopub.execute_input": "2022-08-13T17:02:21.986753Z",
     "iopub.status.busy": "2022-08-13T17:02:21.985049Z",
     "iopub.status.idle": "2022-08-13T17:02:26.462937Z",
     "shell.execute_reply": "2022-08-13T17:02:26.461545Z"
    },
    "papermill": {
     "duration": 4.486982,
     "end_time": "2022-08-13T17:02:26.466290",
     "exception": false,
     "start_time": "2022-08-13T17:02:21.979308",
     "status": "completed"
    },
    "tags": []
   },
   "outputs": [],
   "source": [
    "df=pd.read_csv('../input/digit-recognizer/train.csv')\n",
    "\n",
    "X=df.drop('label',axis=1)\n",
    "Y=df.label\n",
    "Y=pd.get_dummies(Y,prefix='Num')"
   ]
  },
  {
   "cell_type": "code",
   "execution_count": 3,
   "id": "ae800b16",
   "metadata": {
    "execution": {
     "iopub.execute_input": "2022-08-13T17:02:26.478117Z",
     "iopub.status.busy": "2022-08-13T17:02:26.476923Z",
     "iopub.status.idle": "2022-08-13T17:02:26.618938Z",
     "shell.execute_reply": "2022-08-13T17:02:26.617526Z"
    },
    "papermill": {
     "duration": 0.150545,
     "end_time": "2022-08-13T17:02:26.622064",
     "exception": false,
     "start_time": "2022-08-13T17:02:26.471519",
     "status": "completed"
    },
    "tags": []
   },
   "outputs": [],
   "source": [
    "X=X/255\n",
    "\n",
    "X=X.values.reshape(-1,28,28,1)"
   ]
  },
  {
   "cell_type": "markdown",
   "id": "bc5c9ffd",
   "metadata": {
    "papermill": {
     "duration": 0.00443,
     "end_time": "2022-08-13T17:02:26.631436",
     "exception": false,
     "start_time": "2022-08-13T17:02:26.627006",
     "status": "completed"
    },
    "tags": []
   },
   "source": [
    "From sklearn library, I am splitting the train and val values for our training and validation process."
   ]
  },
  {
   "cell_type": "code",
   "execution_count": 4,
   "id": "b3f27bf6",
   "metadata": {
    "execution": {
     "iopub.execute_input": "2022-08-13T17:02:26.642594Z",
     "iopub.status.busy": "2022-08-13T17:02:26.642245Z",
     "iopub.status.idle": "2022-08-13T17:02:27.974095Z",
     "shell.execute_reply": "2022-08-13T17:02:27.972580Z"
    },
    "papermill": {
     "duration": 1.340675,
     "end_time": "2022-08-13T17:02:27.977031",
     "exception": false,
     "start_time": "2022-08-13T17:02:26.636356",
     "status": "completed"
    },
    "tags": []
   },
   "outputs": [],
   "source": [
    "from sklearn.model_selection import train_test_split\n",
    "\n",
    "X_train, X_val, y_train, y_val = train_test_split(X, Y, test_size=0.2, random_state=42)\n",
    "\n",
    "validation_data=X_val,y_val"
   ]
  },
  {
   "cell_type": "markdown",
   "id": "25dd771f",
   "metadata": {
    "papermill": {
     "duration": 0.004194,
     "end_time": "2022-08-13T17:02:27.986039",
     "exception": false,
     "start_time": "2022-08-13T17:02:27.981845",
     "status": "completed"
    },
    "tags": []
   },
   "source": [
    "# Model"
   ]
  },
  {
   "cell_type": "markdown",
   "id": "ee1648b7",
   "metadata": {
    "papermill": {
     "duration": 0.00428,
     "end_time": "2022-08-13T17:02:27.995097",
     "exception": false,
     "start_time": "2022-08-13T17:02:27.990817",
     "status": "completed"
    },
    "tags": []
   },
   "source": [
    "## First CNN"
   ]
  },
  {
   "cell_type": "code",
   "execution_count": 5,
   "id": "2179e389",
   "metadata": {
    "execution": {
     "iopub.execute_input": "2022-08-13T17:02:28.007002Z",
     "iopub.status.busy": "2022-08-13T17:02:28.005099Z",
     "iopub.status.idle": "2022-08-13T17:02:31.744819Z",
     "shell.execute_reply": "2022-08-13T17:02:31.743471Z"
    },
    "papermill": {
     "duration": 3.748741,
     "end_time": "2022-08-13T17:02:31.748288",
     "exception": false,
     "start_time": "2022-08-13T17:02:27.999547",
     "status": "completed"
    },
    "tags": []
   },
   "outputs": [
    {
     "name": "stderr",
     "output_type": "stream",
     "text": [
      "2022-08-13 17:02:28.035121: I tensorflow/core/platform/cpu_feature_guard.cc:142] This TensorFlow binary is optimized with oneAPI Deep Neural Network Library (oneDNN) to use the following CPU instructions in performance-critical operations:  AVX2 FMA\n",
      "To enable them in other operations, rebuild TensorFlow with the appropriate compiler flags.\n",
      "2022-08-13 17:02:28.035690: I tensorflow/stream_executor/cuda/cuda_gpu_executor.cc:937] successful NUMA node read from SysFS had negative value (-1), but there must be at least one NUMA node, so returning NUMA node zero\n",
      "2022-08-13 17:02:28.039901: I tensorflow/stream_executor/cuda/cuda_gpu_executor.cc:937] successful NUMA node read from SysFS had negative value (-1), but there must be at least one NUMA node, so returning NUMA node zero\n",
      "2022-08-13 17:02:28.044275: I tensorflow/stream_executor/cuda/cuda_gpu_executor.cc:937] successful NUMA node read from SysFS had negative value (-1), but there must be at least one NUMA node, so returning NUMA node zero\n",
      "2022-08-13 17:02:31.188755: I tensorflow/stream_executor/cuda/cuda_gpu_executor.cc:937] successful NUMA node read from SysFS had negative value (-1), but there must be at least one NUMA node, so returning NUMA node zero\n",
      "2022-08-13 17:02:31.192826: I tensorflow/stream_executor/cuda/cuda_gpu_executor.cc:937] successful NUMA node read from SysFS had negative value (-1), but there must be at least one NUMA node, so returning NUMA node zero\n",
      "2022-08-13 17:02:31.196639: I tensorflow/stream_executor/cuda/cuda_gpu_executor.cc:937] successful NUMA node read from SysFS had negative value (-1), but there must be at least one NUMA node, so returning NUMA node zero\n",
      "2022-08-13 17:02:31.200541: I tensorflow/core/common_runtime/gpu/gpu_device.cc:1510] Created device /job:localhost/replica:0/task:0/device:GPU:0 with 15403 MB memory:  -> device: 0, name: Tesla P100-PCIE-16GB, pci bus id: 0000:00:04.0, compute capability: 6.0\n"
     ]
    }
   ],
   "source": [
    "#experiment with Convolutional neural net\n",
    "model = keras.models.Sequential([\n",
    "keras.layers.RandomRotation(0.1),\n",
    "    \n",
    "keras.layers.Conv2D(32, (3, 3), padding='same', activation='relu', input_shape = (28,28,1)),\n",
    "keras.layers.Conv2D(32, (3, 3), padding='same', activation='relu'),\n",
    "keras.layers.Conv2D(32, (3, 3), padding='same', activation='relu'),\n",
    "keras.layers.MaxPooling2D(),\n",
    "keras.layers.BatchNormalization(),\n",
    "\n",
    "keras.layers.Conv2D(64, (2, 2), activation='relu'),\n",
    "keras.layers.Conv2D(64, (2, 2), activation='relu'),\n",
    "keras.layers.Conv2D(64, (2, 2), activation='relu'),\n",
    "keras.layers.MaxPooling2D(),\n",
    "keras.layers.BatchNormalization(),\n",
    "\n",
    "keras.layers.Conv2D(128, (2, 2), activation='relu'),\n",
    "keras.layers.Conv2D(128, (2, 2), activation='relu'),\n",
    "keras.layers.Conv2D(128, (2, 2), activation='relu'),\n",
    "keras.layers.MaxPooling2D(),\n",
    "keras.layers.BatchNormalization(),\n",
    "\n",
    "keras.layers.Flatten(),\n",
    "keras.layers.Dropout(0.3),\n",
    "keras.layers.Dense(512, activation='relu'),\n",
    "keras.layers.Dropout(0.25),\n",
    "keras.layers.Dense(10, activation ='softmax')])"
   ]
  },
  {
   "cell_type": "markdown",
   "id": "8c8c58bf",
   "metadata": {
    "papermill": {
     "duration": 0.004583,
     "end_time": "2022-08-13T17:02:31.758051",
     "exception": false,
     "start_time": "2022-08-13T17:02:31.753468",
     "status": "completed"
    },
    "tags": []
   },
   "source": [
    "## Compile/Training "
   ]
  },
  {
   "cell_type": "markdown",
   "id": "73682ce2",
   "metadata": {
    "papermill": {
     "duration": 0.004431,
     "end_time": "2022-08-13T17:02:31.767031",
     "exception": false,
     "start_time": "2022-08-13T17:02:31.762600",
     "status": "completed"
    },
    "tags": []
   },
   "source": [
    "An ROC curve (receiver operating characteristic curve) is a graph showing the performance of a classification model at all classification thresholds. AUC stands for \"Area under the ROC Curve.\" That is, AUC measures the entire two-dimensional area underneath the entire ROC curve (think integral calculus) from (0,0) to (1,1).\n",
    "\n",
    "I am using AUC and acc as metrics and I want to check the results. \n",
    "\n",
    "EarlyStopping is a choice that I generally use to control the model output. Monitoring val_acc is a choice again. I got better model with that.\n",
    "\n",
    "I generally use LearningRateScheduler. I observe better results.\n",
    "\n",
    "It is vital to save the best model for submitting your best score..."
   ]
  },
  {
   "cell_type": "code",
   "execution_count": 6,
   "id": "718062e1",
   "metadata": {
    "execution": {
     "iopub.execute_input": "2022-08-13T17:02:31.777474Z",
     "iopub.status.busy": "2022-08-13T17:02:31.777153Z",
     "iopub.status.idle": "2022-08-13T17:02:31.807735Z",
     "shell.execute_reply": "2022-08-13T17:02:31.806526Z"
    },
    "papermill": {
     "duration": 0.039143,
     "end_time": "2022-08-13T17:02:31.810638",
     "exception": false,
     "start_time": "2022-08-13T17:02:31.771495",
     "status": "completed"
    },
    "tags": []
   },
   "outputs": [],
   "source": [
    "model.compile(optimizer='adam',\n",
    "loss=tensorflow.losses.CategoricalCrossentropy(),\n",
    "metrics=[keras.metrics.AUC(name='auc'),'acc'])\n",
    "callback = keras.callbacks.EarlyStopping(monitor='val_acc',\n",
    "                                            patience=7,\n",
    "                                            restore_best_weights=True)\n",
    "\n",
    "\n",
    "def exponential_decay(lr0, s):\n",
    "    def exponential_decay_fn(epoch):\n",
    "        return lr0 * 0.1 **(epoch / s)\n",
    "    return exponential_decay_fn\n",
    "\n",
    "exponential_decay_fn = exponential_decay(0.01, 20)\n",
    "\n",
    "lr_scheduler = keras.callbacks.LearningRateScheduler(exponential_decay_fn)\n",
    "\n",
    "checkpoint_cb = keras.callbacks.ModelCheckpoint(\"best_model.h5\", monitor=\"val_acc\",\n",
    "                                                    save_best_only=True)\n",
    "\n",
    "early_stopping_cb = keras.callbacks.EarlyStopping(patience=10,restore_best_weights=True)"
   ]
  },
  {
   "cell_type": "code",
   "execution_count": 7,
   "id": "46e48a07",
   "metadata": {
    "execution": {
     "iopub.execute_input": "2022-08-13T17:02:31.822199Z",
     "iopub.status.busy": "2022-08-13T17:02:31.821111Z",
     "iopub.status.idle": "2022-08-13T17:07:59.178534Z",
     "shell.execute_reply": "2022-08-13T17:07:59.177382Z"
    },
    "papermill": {
     "duration": 327.3664,
     "end_time": "2022-08-13T17:07:59.181848",
     "exception": false,
     "start_time": "2022-08-13T17:02:31.815448",
     "status": "completed"
    },
    "tags": []
   },
   "outputs": [
    {
     "name": "stderr",
     "output_type": "stream",
     "text": [
      "2022-08-13 17:02:32.211426: I tensorflow/compiler/mlir/mlir_graph_optimization_pass.cc:185] None of the MLIR Optimization Passes are enabled (registered 2)\n"
     ]
    },
    {
     "name": "stdout",
     "output_type": "stream",
     "text": [
      "Epoch 1/40\n"
     ]
    },
    {
     "name": "stderr",
     "output_type": "stream",
     "text": [
      "2022-08-13 17:02:35.331427: I tensorflow/stream_executor/cuda/cuda_dnn.cc:369] Loaded cuDNN version 8005\n"
     ]
    },
    {
     "name": "stdout",
     "output_type": "stream",
     "text": [
      "1050/1050 [==============================] - 22s 11ms/step - loss: 0.4661 - auc: 0.9839 - acc: 0.8579 - val_loss: 0.1973 - val_auc: 0.9935 - val_acc: 0.9521\n",
      "Epoch 2/40\n",
      "1050/1050 [==============================] - 12s 12ms/step - loss: 0.2041 - auc: 0.9948 - acc: 0.9406 - val_loss: 0.0899 - val_auc: 0.9984 - val_acc: 0.9746\n",
      "Epoch 3/40\n",
      "1050/1050 [==============================] - 11s 11ms/step - loss: 0.1577 - auc: 0.9961 - acc: 0.9565 - val_loss: 0.1839 - val_auc: 0.9968 - val_acc: 0.9669\n",
      "Epoch 4/40\n",
      "1050/1050 [==============================] - 11s 11ms/step - loss: 0.1353 - auc: 0.9967 - acc: 0.9626 - val_loss: 0.0805 - val_auc: 0.9982 - val_acc: 0.9752\n",
      "Epoch 5/40\n",
      "1050/1050 [==============================] - 11s 11ms/step - loss: 0.1156 - auc: 0.9973 - acc: 0.9687 - val_loss: 0.1780 - val_auc: 0.9960 - val_acc: 0.9708\n",
      "Epoch 6/40\n",
      "1050/1050 [==============================] - 13s 12ms/step - loss: 0.1097 - auc: 0.9973 - acc: 0.9704 - val_loss: 2.7576 - val_auc: 0.9938 - val_acc: 0.9735\n",
      "Epoch 7/40\n",
      "1050/1050 [==============================] - 11s 11ms/step - loss: 0.0948 - auc: 0.9977 - acc: 0.9749 - val_loss: 0.0567 - val_auc: 0.9985 - val_acc: 0.9871\n",
      "Epoch 8/40\n",
      "1050/1050 [==============================] - 12s 11ms/step - loss: 0.0837 - auc: 0.9982 - acc: 0.9779 - val_loss: 2.8383 - val_auc: 0.9983 - val_acc: 0.9843\n",
      "Epoch 9/40\n",
      "1050/1050 [==============================] - 12s 12ms/step - loss: 0.0758 - auc: 0.9983 - acc: 0.9800 - val_loss: 0.0380 - val_auc: 0.9993 - val_acc: 0.9892\n",
      "Epoch 10/40\n",
      "1050/1050 [==============================] - 11s 11ms/step - loss: 0.0676 - auc: 0.9985 - acc: 0.9824 - val_loss: 0.3721 - val_auc: 0.9991 - val_acc: 0.9898\n",
      "Epoch 11/40\n",
      "1050/1050 [==============================] - 11s 11ms/step - loss: 0.0639 - auc: 0.9987 - acc: 0.9830 - val_loss: 0.0812 - val_auc: 0.9975 - val_acc: 0.9800\n",
      "Epoch 12/40\n",
      "1050/1050 [==============================] - 12s 11ms/step - loss: 0.0569 - auc: 0.9987 - acc: 0.9844 - val_loss: 0.0310 - val_auc: 0.9994 - val_acc: 0.9912\n",
      "Epoch 13/40\n",
      "1050/1050 [==============================] - 11s 11ms/step - loss: 0.0501 - auc: 0.9992 - acc: 0.9859 - val_loss: 0.0288 - val_auc: 0.9994 - val_acc: 0.9921\n",
      "Epoch 14/40\n",
      "1050/1050 [==============================] - 11s 11ms/step - loss: 0.0459 - auc: 0.9990 - acc: 0.9879 - val_loss: 0.0375 - val_auc: 0.9989 - val_acc: 0.9905\n",
      "Epoch 15/40\n",
      "1050/1050 [==============================] - 12s 11ms/step - loss: 0.0426 - auc: 0.9992 - acc: 0.9880 - val_loss: 0.0371 - val_auc: 0.9997 - val_acc: 0.9929\n",
      "Epoch 16/40\n",
      "1050/1050 [==============================] - 11s 11ms/step - loss: 0.0372 - auc: 0.9993 - acc: 0.9894 - val_loss: 0.0287 - val_auc: 0.9994 - val_acc: 0.9920\n",
      "Epoch 17/40\n",
      "1050/1050 [==============================] - 12s 12ms/step - loss: 0.0358 - auc: 0.9993 - acc: 0.9907 - val_loss: 0.0250 - val_auc: 0.9993 - val_acc: 0.9932\n",
      "Epoch 18/40\n",
      "1050/1050 [==============================] - 12s 11ms/step - loss: 0.0314 - auc: 0.9994 - acc: 0.9910 - val_loss: 0.0307 - val_auc: 0.9991 - val_acc: 0.9914\n",
      "Epoch 19/40\n",
      "1050/1050 [==============================] - 11s 11ms/step - loss: 0.0321 - auc: 0.9993 - acc: 0.9910 - val_loss: 2.9612 - val_auc: 0.9992 - val_acc: 0.9923\n",
      "Epoch 20/40\n",
      "1050/1050 [==============================] - 11s 11ms/step - loss: 0.0286 - auc: 0.9995 - acc: 0.9918 - val_loss: 1.4252 - val_auc: 0.9993 - val_acc: 0.9924\n",
      "Epoch 21/40\n",
      "1050/1050 [==============================] - 12s 12ms/step - loss: 0.0265 - auc: 0.9996 - acc: 0.9923 - val_loss: 0.4284 - val_auc: 0.9995 - val_acc: 0.9933\n",
      "Epoch 22/40\n",
      "1050/1050 [==============================] - 11s 11ms/step - loss: 0.0257 - auc: 0.9996 - acc: 0.9926 - val_loss: 0.9901 - val_auc: 0.9993 - val_acc: 0.9933\n",
      "Epoch 23/40\n",
      "1050/1050 [==============================] - 11s 11ms/step - loss: 0.0246 - auc: 0.9995 - acc: 0.9921 - val_loss: 0.1085 - val_auc: 0.9993 - val_acc: 0.9927\n",
      "Epoch 24/40\n",
      "1050/1050 [==============================] - 12s 11ms/step - loss: 0.0231 - auc: 0.9996 - acc: 0.9934 - val_loss: 0.0253 - val_auc: 0.9994 - val_acc: 0.9933\n",
      "Epoch 25/40\n",
      "1050/1050 [==============================] - 12s 11ms/step - loss: 0.0210 - auc: 0.9997 - acc: 0.9939 - val_loss: 0.0262 - val_auc: 0.9993 - val_acc: 0.9942\n",
      "Epoch 26/40\n",
      "1050/1050 [==============================] - 12s 11ms/step - loss: 0.0222 - auc: 0.9995 - acc: 0.9936 - val_loss: 0.0250 - val_auc: 0.9995 - val_acc: 0.9932\n",
      "Epoch 27/40\n",
      "1050/1050 [==============================] - 12s 11ms/step - loss: 0.0201 - auc: 0.9997 - acc: 0.9940 - val_loss: 0.0254 - val_auc: 0.9993 - val_acc: 0.9937\n"
     ]
    }
   ],
   "source": [
    "history=model.fit(X_train,y_train, epochs=40, validation_data=validation_data, callbacks=[checkpoint_cb, early_stopping_cb, lr_scheduler])"
   ]
  },
  {
   "cell_type": "markdown",
   "id": "36bd5201",
   "metadata": {
    "papermill": {
     "duration": 0.293128,
     "end_time": "2022-08-13T17:07:59.832595",
     "exception": false,
     "start_time": "2022-08-13T17:07:59.539467",
     "status": "completed"
    },
    "tags": []
   },
   "source": [
    "I am bringing the best model in and checking the loss,auc and accuracy values..."
   ]
  },
  {
   "cell_type": "code",
   "execution_count": 8,
   "id": "967ffd81",
   "metadata": {
    "execution": {
     "iopub.execute_input": "2022-08-13T17:08:00.484181Z",
     "iopub.status.busy": "2022-08-13T17:08:00.483531Z",
     "iopub.status.idle": "2022-08-13T17:08:02.820375Z",
     "shell.execute_reply": "2022-08-13T17:08:02.818363Z"
    },
    "papermill": {
     "duration": 2.685186,
     "end_time": "2022-08-13T17:08:02.824217",
     "exception": false,
     "start_time": "2022-08-13T17:08:00.139031",
     "status": "completed"
    },
    "tags": []
   },
   "outputs": [
    {
     "name": "stdout",
     "output_type": "stream",
     "text": [
      "263/263 [==============================] - 2s 5ms/step - loss: 0.0262 - auc: 0.9993 - acc: 0.9942\n",
      "Loss:  0.026235835626721382\n",
      "AUC:  0.9992613792419434\n",
      "Accuracy:  0.9941666722297668\n"
     ]
    }
   ],
   "source": [
    "from tensorflow.keras.models import load_model\n",
    "model=load_model(\n",
    "    \"best_model.h5\", custom_objects=None, compile=True, options=None\n",
    ")\n",
    "loss, auc, accuracy = model.evaluate(X_val,y_val)\n",
    "print(\"Loss: \", loss)\n",
    "print(\"AUC: \", auc)\n",
    "print(\"Accuracy: \", accuracy)"
   ]
  },
  {
   "cell_type": "markdown",
   "id": "6699c750",
   "metadata": {
    "papermill": {
     "duration": 0.30448,
     "end_time": "2022-08-13T17:08:03.424807",
     "exception": false,
     "start_time": "2022-08-13T17:08:03.120327",
     "status": "completed"
    },
    "tags": []
   },
   "source": [
    "## Submission"
   ]
  },
  {
   "cell_type": "markdown",
   "id": "692b402d",
   "metadata": {
    "papermill": {
     "duration": 0.302676,
     "end_time": "2022-08-13T17:08:04.031080",
     "exception": false,
     "start_time": "2022-08-13T17:08:03.728404",
     "status": "completed"
    },
    "tags": []
   },
   "source": [
    "In order to submit with the correct format I am using np.argmax. You may get 0 score if you are submitting with wrong format..."
   ]
  },
  {
   "cell_type": "code",
   "execution_count": 9,
   "id": "f584716b",
   "metadata": {
    "execution": {
     "iopub.execute_input": "2022-08-13T17:08:04.679200Z",
     "iopub.status.busy": "2022-08-13T17:08:04.678782Z",
     "iopub.status.idle": "2022-08-13T17:08:10.461125Z",
     "shell.execute_reply": "2022-08-13T17:08:10.459843Z"
    },
    "papermill": {
     "duration": 6.127123,
     "end_time": "2022-08-13T17:08:10.464283",
     "exception": false,
     "start_time": "2022-08-13T17:08:04.337160",
     "status": "completed"
    },
    "tags": []
   },
   "outputs": [],
   "source": [
    "df_test=pd.read_csv('../input/digit-recognizer/test.csv')\n",
    "df_test=df_test/255\n",
    "\n",
    "df_test=df_test.values.reshape(-1,28,28,1)\n",
    "\n",
    "y_pred=model.predict(df_test)\n",
    "\n",
    "\n",
    "y_pred=pd.DataFrame(np.argmax(y_pred,axis=1),columns=['Label'])\n",
    "submission = pd.read_csv(\"../input/digit-recognizer/sample_submission.csv\")\n",
    "submission[\"Label\"] = y_pred\n",
    "submission.to_csv('submission.csv', index=False)"
   ]
  },
  {
   "cell_type": "code",
   "execution_count": null,
   "id": "3cfcb05f",
   "metadata": {
    "papermill": {
     "duration": 0.316598,
     "end_time": "2022-08-13T17:08:11.081168",
     "exception": false,
     "start_time": "2022-08-13T17:08:10.764570",
     "status": "completed"
    },
    "tags": []
   },
   "outputs": [],
   "source": []
  }
 ],
 "metadata": {
  "kernelspec": {
   "display_name": "Python 3",
   "language": "python",
   "name": "python3"
  },
  "language_info": {
   "codemirror_mode": {
    "name": "ipython",
    "version": 3
   },
   "file_extension": ".py",
   "mimetype": "text/x-python",
   "name": "python",
   "nbconvert_exporter": "python",
   "pygments_lexer": "ipython3",
   "version": "3.7.12"
  },
  "papermill": {
   "default_parameters": {},
   "duration": 371.966538,
   "end_time": "2022-08-13T17:08:15.435220",
   "environment_variables": {},
   "exception": null,
   "input_path": "__notebook__.ipynb",
   "output_path": "__notebook__.ipynb",
   "parameters": {},
   "start_time": "2022-08-13T17:02:03.468682",
   "version": "2.3.4"
  }
 },
 "nbformat": 4,
 "nbformat_minor": 5
}
